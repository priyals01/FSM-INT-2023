{
  "nbformat": 4,
  "nbformat_minor": 0,
  "metadata": {
    "colab": {
      "provenance": []
    },
    "kernelspec": {
      "name": "python3",
      "display_name": "Python 3"
    },
    "language_info": {
      "name": "python"
    }
  },
  "cells": [
    {
      "cell_type": "code",
      "execution_count": 1,
      "metadata": {
        "colab": {
          "base_uri": "https://localhost:8080/"
        },
        "id": "xz1mYj0mNt-Z",
        "outputId": "c5060d9e-9e1d-40e0-abc1-b2f7fabe6e68"
      },
      "outputs": [
        {
          "output_type": "stream",
          "name": "stdout",
          "text": [
            "Drive already mounted at /content/drive; to attempt to forcibly remount, call drive.mount(\"/content/drive\", force_remount=True).\n"
          ]
        }
      ],
      "source": [
        "from google.colab import drive #importing the drive\n",
        "drive.mount('/content/drive')"
      ]
    },
    {
      "cell_type": "code",
      "source": [
        "import cv2\n",
        "import numpy as np\n",
        "import os\n",
        "\n"
      ],
      "metadata": {
        "id": "7O3otiBfOCy5"
      },
      "execution_count": 2,
      "outputs": []
    },
    {
      "cell_type": "code",
      "source": [
        "# import libraries\n",
        "from keras.models import Sequential\n",
        "from keras.layers import Convolution2D, MaxPooling2D, Flatten, Dense\n",
        "# initialise the CNN\n",
        "classifier = Sequential()\n",
        "# specify the bit depth\n",
        "#bit_depth = 1 # image read is monochrome/bw/grayscale\n",
        "bit_depth = 3 # color image\n",
        "# other layers\n",
        "# convolution layer\n",
        "classifier.add(Convolution2D(32,(3,3),input_shape=(64,64,bit_depth),activation='relu'))\n",
        "# max pooling layer\n",
        "classifier.add(MaxPooling2D(pool_size=(2,2)))\n",
        "# flatten layer\n",
        "classifier.add(Flatten())\n",
        "# dense layer\n",
        "classifier.add(Dense(units=16,activation='relu'))\n",
        "classifier.add(Dense(units=8, activation='relu'))\n",
        "# output layer\n",
        "classifier.add(Dense(1,activation='sigmoid'))\n",
        "# compile the model\n",
        "classifier.compile(optimizer='rmsprop',loss='binary_crossentropy',metrics=['accuracy'])\n",
        "# image augmentation process (on train and validation images)\n",
        "from keras.preprocessing.image import ImageDataGenerator\n",
        "train_datagen = ImageDataGenerator(rescale=1/255, shear_range=0.4,\n",
        "zoom_range=0.1,\n",
        "horizontal_flip=True)\n",
        "val_datagen = ImageDataGenerator(rescale=1/255,shear_range=0.4,\n",
        "zoom_range=0.1,\n",
        "horizontal_flip=True)\n",
        "# set the training and validation directories\n",
        "train_dir = \"/content/drive/MyDrive/Normal\"\n",
        "val_dir=\"/content/drive/MyDrive/Normal\"\n",
        "\n",
        "# read the images\n",
        "train_set =train_datagen.flow_from_directory(train_dir,\n",
        "target_size=(64,64),\n",
        "batch_size=10,\n",
        "class_mode = 'binary')\n",
        "train_set.n\n",
        "val_set = val_datagen.flow_from_directory(val_dir,\n",
        "target_size=(64,64),\n",
        "batch_size=10,\n",
        "class_mode = 'binary')\n",
        "\n",
        "\n"
      ],
      "metadata": {
        "colab": {
          "base_uri": "https://localhost:8080/"
        },
        "id": "vZ9GfixpPutK",
        "outputId": "0f8a6f01-8a22-4288-b47c-80a86438697b"
      },
      "execution_count": 7,
      "outputs": [
        {
          "output_type": "stream",
          "name": "stdout",
          "text": [
            "Found 0 images belonging to 0 classes.\n",
            "Found 0 images belonging to 0 classes.\n"
          ]
        }
      ]
    },
    {
      "cell_type": "code",
      "source": [
        "# import libraries\n",
        "from keras.models import Sequential\n",
        "from keras.layers import Convolution2D, MaxPooling2D, Flatten, Dense\n",
        "# initialise the CNN\n",
        "classifier = Sequential()\n",
        "# specify the bit depth\n",
        "#bit_depth = 1 # image read is monochrome/bw/grayscale\n",
        "bit_depth = 3 # color image\n",
        "# other layers\n",
        "# convolution layer\n",
        "classifier.add(Convolution2D(32,(3,3),input_shape=(64,64,bit_depth),activation='relu'))\n",
        "# max pooling layer\n",
        "classifier.add(MaxPooling2D(pool_size=(2,2)))\n",
        "# flatten layer\n",
        "classifier.add(Flatten())\n",
        "# dense layer\n",
        "classifier.add(Dense(units=16,activation='relu'))\n",
        "classifier.add(Dense(units=8, activation='relu'))\n",
        "# output layer\n",
        "classifier.add(Dense(1,activation='sigmoid'))\n",
        "# compile the model\n",
        "classifier.compile(optimizer='rmsprop',loss='binary_crossentropy',metrics=['accuracy'])\n",
        "# image augmentation process (on train and validation images)\n",
        "from keras.preprocessing.image import ImageDataGenerator\n",
        "train_datagen = ImageDataGenerator(rescale=1/255, shear_range=0.4,\n",
        "zoom_range=0.1,\n",
        "horizontal_flip=True)\n",
        "val_datagen = ImageDataGenerator(rescale=1/255,shear_range=0.4,\n",
        "zoom_range=0.1,\n",
        "horizontal_flip=True)\n",
        "# set the training and validation directories\n",
        "train_dir = \"/content/drive/MyDrive/Defected1\"\n",
        "val_dir=\"/content/drive/MyDrive/Defected1\"\n",
        "\n",
        "# read the images\n",
        "train_set =train_datagen.flow_from_directory(train_dir,\n",
        "target_size=(64,64),\n",
        "batch_size=10,\n",
        "class_mode = 'binary')\n",
        "train_set.n\n",
        "val_set = val_datagen.flow_from_directory(val_dir,\n",
        "target_size=(64,64),\n",
        "batch_size=10,\n",
        "class_mode = 'binary')"
      ],
      "metadata": {
        "colab": {
          "base_uri": "https://localhost:8080/"
        },
        "id": "IGtesei5HjcU",
        "outputId": "3c17cf8e-c17e-4f86-85d8-938ee8a16787"
      },
      "execution_count": 8,
      "outputs": [
        {
          "output_type": "stream",
          "name": "stdout",
          "text": [
            "Found 0 images belonging to 0 classes.\n",
            "Found 0 images belonging to 0 classes.\n"
          ]
        }
      ]
    },
    {
      "cell_type": "code",
      "source": [
        "# import libraries\n",
        "from keras.models import Sequential\n",
        "from keras.layers import Convolution2D, MaxPooling2D, Flatten, Dense\n",
        "# initialise the CNN\n",
        "classifier = Sequential()\n",
        "# specify the bit depth\n",
        "#bit_depth = 1 # image read is monochrome/bw/grayscale\n",
        "bit_depth = 3 # color image\n",
        "# other layers\n",
        "# convolution layer\n",
        "classifier.add(Convolution2D(32,(3,3),input_shape=(64,64,bit_depth),activation='relu'))\n",
        "# max pooling layer\n",
        "classifier.add(MaxPooling2D(pool_size=(2,2)))\n",
        "# flatten layer\n",
        "classifier.add(Flatten())\n",
        "# dense layer\n",
        "classifier.add(Dense(units=16,activation='relu'))\n",
        "classifier.add(Dense(units=8, activation='relu'))\n",
        "# output layer\n",
        "classifier.add(Dense(1,activation='sigmoid'))\n",
        "# compile the model\n",
        "classifier.compile(optimizer='rmsprop',loss='binary_crossentropy',metrics=['accuracy'])\n",
        "# image augmentation process (on train and validation images)\n",
        "from keras.preprocessing.image import ImageDataGenerator\n",
        "train_datagen = ImageDataGenerator(rescale=1/255, shear_range=0.4,\n",
        "zoom_range=0.1,\n",
        "horizontal_flip=True)\n",
        "val_datagen = ImageDataGenerator(rescale=1/255,shear_range=0.4,\n",
        "zoom_range=0.1,\n",
        "horizontal_flip=True)\n",
        "# set the training and validation directories\n",
        "train_dir =\"/content/drive/MyDrive/Defected2\"\n",
        "val_dir=\"/content/drive/MyDrive/Defected2\"\n",
        "\n",
        "# read the images\n",
        "train_set =train_datagen.flow_from_directory(train_dir,\n",
        "target_size=(64,64),\n",
        "batch_size=10,\n",
        "class_mode = 'binary')\n",
        "train_set.n\n",
        "val_set = val_datagen.flow_from_directory(val_dir,\n",
        "target_size=(64,64),\n",
        "batch_size=10,\n",
        "class_mode = 'binary')"
      ],
      "metadata": {
        "colab": {
          "base_uri": "https://localhost:8080/"
        },
        "id": "fIbn3gBlHtxu",
        "outputId": "51af2aa3-a7a4-489b-c127-feb5ff08fe1f"
      },
      "execution_count": 10,
      "outputs": [
        {
          "output_type": "stream",
          "name": "stdout",
          "text": [
            "Found 0 images belonging to 0 classes.\n",
            "Found 0 images belonging to 0 classes.\n"
          ]
        }
      ]
    }
  ]
}